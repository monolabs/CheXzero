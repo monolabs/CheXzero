{
 "cells": [
  {
   "cell_type": "code",
   "execution_count": 1,
   "id": "9e7c042c-0ba1-46f8-b459-03d1f887f7b3",
   "metadata": {
    "tags": []
   },
   "outputs": [],
   "source": [
    "import sys\n",
    "sys.path.append(\"../\") # go to parent dir"
   ]
  },
  {
   "cell_type": "code",
   "execution_count": 2,
   "id": "f574954a-3ba5-4162-aaec-c4570e866eb7",
   "metadata": {
    "tags": []
   },
   "outputs": [],
   "source": [
    "import os\n",
    "from pathlib import Path\n",
    "from torchvision.transforms import Compose, Normalize, Resize, InterpolationMode\n",
    "import skimage\n",
    "from PIL import Image\n",
    "import torch\n",
    "import pandas as pd\n",
    "from tqdm.notebook import tqdm\n",
    "from data_process import img_to_hdf5\n",
    "import cv2\n",
    "from typing import List, Union\n",
    "import h5py"
   ]
  },
  {
   "cell_type": "code",
   "execution_count": null,
   "id": "f5d3d029-99c0-417e-9ee0-4d7a408a03ee",
   "metadata": {},
   "outputs": [
    {
     "name": "stderr",
     "output_type": "stream",
     "text": [
      " 47%|████▋     | 174955/368960 [18:17:01<17:05:08,  3.15it/s] "
     ]
    }
   ],
   "source": [
    "for split in [\n",
    "    'train',\n",
    "    # 'validate',\n",
    "    # 'test'\n",
    "    ]:\n",
    "    cxr_paths = pd.read_csv(f'../data/mimic-cxr-data/files/{split}.csv')['Path'].tolist()\n",
    "    cxr_paths = [p.replace('gs://', '../data/') for p in cxr_paths]\n",
    "    out_filepath = f'../data/mimic-cxr-data/h5files/{split}.h5'\n",
    "    img_to_hdf5(cxr_paths, out_filepath)"
   ]
  },
  {
   "cell_type": "code",
   "execution_count": null,
   "id": "55b314c9-ce85-4395-84ac-4280d63618d2",
   "metadata": {},
   "outputs": [],
   "source": []
  }
 ],
 "metadata": {
  "environment": {
   "kernel": "conda-root-py",
   "name": "workbench-notebooks.m117",
   "type": "gcloud",
   "uri": "us-docker.pkg.dev/deeplearning-platform-release/gcr.io/workbench-notebooks:m117"
  },
  "kernelspec": {
   "display_name": "Python 3 (ipykernel) (Local)",
   "language": "python",
   "name": "conda-root-py"
  },
  "language_info": {
   "codemirror_mode": {
    "name": "ipython",
    "version": 3
   },
   "file_extension": ".py",
   "mimetype": "text/x-python",
   "name": "python",
   "nbconvert_exporter": "python",
   "pygments_lexer": "ipython3",
   "version": "3.10.13"
  }
 },
 "nbformat": 4,
 "nbformat_minor": 5
}
