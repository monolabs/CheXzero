{
 "cells": [
  {
   "cell_type": "code",
   "execution_count": 1,
   "id": "532f05ee-2539-48ca-b811-638a729284d9",
   "metadata": {
    "tags": []
   },
   "outputs": [],
   "source": [
    "import pandas as pd"
   ]
  },
  {
   "cell_type": "code",
   "execution_count": 2,
   "id": "e7d74bf6-d1ae-44ea-ad64-bafeb0bc6b42",
   "metadata": {
    "tags": []
   },
   "outputs": [
    {
     "data": {
      "text/html": [
       "<div>\n",
       "<style scoped>\n",
       "    .dataframe tbody tr th:only-of-type {\n",
       "        vertical-align: middle;\n",
       "    }\n",
       "\n",
       "    .dataframe tbody tr th {\n",
       "        vertical-align: top;\n",
       "    }\n",
       "\n",
       "    .dataframe thead th {\n",
       "        text-align: right;\n",
       "    }\n",
       "</style>\n",
       "<table border=\"1\" class=\"dataframe\">\n",
       "  <thead>\n",
       "    <tr style=\"text-align: right;\">\n",
       "      <th></th>\n",
       "      <th>dicom_id</th>\n",
       "      <th>study_id</th>\n",
       "      <th>subject_id</th>\n",
       "      <th>split</th>\n",
       "    </tr>\n",
       "  </thead>\n",
       "  <tbody>\n",
       "    <tr>\n",
       "      <th>0</th>\n",
       "      <td>02aa804e-bde0afdd-112c0b34-7bc16630-4e384014</td>\n",
       "      <td>50414267</td>\n",
       "      <td>10000032</td>\n",
       "      <td>train</td>\n",
       "    </tr>\n",
       "    <tr>\n",
       "      <th>1</th>\n",
       "      <td>174413ec-4ec4c1f7-34ea26b7-c5f994f8-79ef1962</td>\n",
       "      <td>50414267</td>\n",
       "      <td>10000032</td>\n",
       "      <td>train</td>\n",
       "    </tr>\n",
       "    <tr>\n",
       "      <th>2</th>\n",
       "      <td>2a2277a9-b0ded155-c0de8eb9-c124d10e-82c5caab</td>\n",
       "      <td>53189527</td>\n",
       "      <td>10000032</td>\n",
       "      <td>train</td>\n",
       "    </tr>\n",
       "    <tr>\n",
       "      <th>3</th>\n",
       "      <td>e084de3b-be89b11e-20fe3f9f-9c8d8dfe-4cfd202c</td>\n",
       "      <td>53189527</td>\n",
       "      <td>10000032</td>\n",
       "      <td>train</td>\n",
       "    </tr>\n",
       "    <tr>\n",
       "      <th>4</th>\n",
       "      <td>68b5c4b1-227d0485-9cc38c3f-7b84ab51-4b472714</td>\n",
       "      <td>53911762</td>\n",
       "      <td>10000032</td>\n",
       "      <td>train</td>\n",
       "    </tr>\n",
       "    <tr>\n",
       "      <th>...</th>\n",
       "      <td>...</td>\n",
       "      <td>...</td>\n",
       "      <td>...</td>\n",
       "      <td>...</td>\n",
       "    </tr>\n",
       "    <tr>\n",
       "      <th>377105</th>\n",
       "      <td>428e2c18-5721d8f3-35a05001-36f3d080-9053b83c</td>\n",
       "      <td>57132437</td>\n",
       "      <td>19999733</td>\n",
       "      <td>train</td>\n",
       "    </tr>\n",
       "    <tr>\n",
       "      <th>377106</th>\n",
       "      <td>58c403aa-35ff8bd9-73e39f54-8dc9cc5d-e0ec3fa9</td>\n",
       "      <td>57132437</td>\n",
       "      <td>19999733</td>\n",
       "      <td>train</td>\n",
       "    </tr>\n",
       "    <tr>\n",
       "      <th>377107</th>\n",
       "      <td>58766883-376a15ce-3b323a28-6af950a0-16b793bd</td>\n",
       "      <td>55368167</td>\n",
       "      <td>19999987</td>\n",
       "      <td>train</td>\n",
       "    </tr>\n",
       "    <tr>\n",
       "      <th>377108</th>\n",
       "      <td>7ba273af-3d290f8d-e28d0ab4-484b7a86-7fc12b08</td>\n",
       "      <td>58621812</td>\n",
       "      <td>19999987</td>\n",
       "      <td>train</td>\n",
       "    </tr>\n",
       "    <tr>\n",
       "      <th>377109</th>\n",
       "      <td>1a1fe7e3-cbac5d93-b339aeda-86bb86b5-4f31e82e</td>\n",
       "      <td>58971208</td>\n",
       "      <td>19999987</td>\n",
       "      <td>train</td>\n",
       "    </tr>\n",
       "  </tbody>\n",
       "</table>\n",
       "<p>377110 rows × 4 columns</p>\n",
       "</div>"
      ],
      "text/plain": [
       "                                            dicom_id  study_id  subject_id  \\\n",
       "0       02aa804e-bde0afdd-112c0b34-7bc16630-4e384014  50414267    10000032   \n",
       "1       174413ec-4ec4c1f7-34ea26b7-c5f994f8-79ef1962  50414267    10000032   \n",
       "2       2a2277a9-b0ded155-c0de8eb9-c124d10e-82c5caab  53189527    10000032   \n",
       "3       e084de3b-be89b11e-20fe3f9f-9c8d8dfe-4cfd202c  53189527    10000032   \n",
       "4       68b5c4b1-227d0485-9cc38c3f-7b84ab51-4b472714  53911762    10000032   \n",
       "...                                              ...       ...         ...   \n",
       "377105  428e2c18-5721d8f3-35a05001-36f3d080-9053b83c  57132437    19999733   \n",
       "377106  58c403aa-35ff8bd9-73e39f54-8dc9cc5d-e0ec3fa9  57132437    19999733   \n",
       "377107  58766883-376a15ce-3b323a28-6af950a0-16b793bd  55368167    19999987   \n",
       "377108  7ba273af-3d290f8d-e28d0ab4-484b7a86-7fc12b08  58621812    19999987   \n",
       "377109  1a1fe7e3-cbac5d93-b339aeda-86bb86b5-4f31e82e  58971208    19999987   \n",
       "\n",
       "        split  \n",
       "0       train  \n",
       "1       train  \n",
       "2       train  \n",
       "3       train  \n",
       "4       train  \n",
       "...       ...  \n",
       "377105  train  \n",
       "377106  train  \n",
       "377107  train  \n",
       "377108  train  \n",
       "377109  train  \n",
       "\n",
       "[377110 rows x 4 columns]"
      ]
     },
     "execution_count": 2,
     "metadata": {},
     "output_type": "execute_result"
    }
   ],
   "source": [
    "df_split = pd.read_csv('../data/mimic-cxr-data/mimic-cxr-2.0.0-split.csv.gz', compression='gzip')\n",
    "df_split"
   ]
  },
  {
   "cell_type": "code",
   "execution_count": 4,
   "id": "b229b71e-8a09-48c8-b166-7570ca9d0819",
   "metadata": {
    "tags": []
   },
   "outputs": [
    {
     "name": "stdout",
     "output_type": "stream",
     "text": [
      "../data/mimic-cxr-data/files/all-p10.csv written\n",
      "../data/mimic-cxr-data/files/all-p11.csv written\n",
      "../data/mimic-cxr-data/files/all-p12.csv written\n",
      "../data/mimic-cxr-data/files/all-p13.csv written\n",
      "../data/mimic-cxr-data/files/all-p14.csv written\n",
      "../data/mimic-cxr-data/files/all-p15.csv written\n",
      "../data/mimic-cxr-data/files/all-p16.csv written\n",
      "../data/mimic-cxr-data/files/all-p17.csv written\n",
      "../data/mimic-cxr-data/files/all-p18.csv written\n",
      "../data/mimic-cxr-data/files/all-p19.csv written\n"
     ]
    }
   ],
   "source": [
    "# LOOP to write train images paths into train-p10.csv, train-p11.csv, and so forth\n",
    "\n",
    "for prefix in range(10, 20):\n",
    "    df_ = df_split[\n",
    "        (df_split['subject_id'].astype(str).str.startswith(str(prefix)))\n",
    "        # & (df_split['split'] == 'train')\n",
    "    ]\n",
    "    paths = []\n",
    "    for i, row in df_.iterrows():\n",
    "        path = f\"data/mimic-cxr-data/files/p{prefix}/p{row['subject_id']}/s{row['study_id']}/{row['dicom_id']}.jpg\"\n",
    "        paths.append(path)\n",
    "    df_path = pd.DataFrame()\n",
    "    df_path['Path'] = paths\n",
    "    csv_path = f'../data/mimic-cxr-data/files/all-p{prefix}.csv'\n",
    "    df_path.to_csv(csv_path, index=False)\n",
    "    print(f\"{csv_path} written\")"
   ]
  },
  {
   "cell_type": "code",
   "execution_count": null,
   "id": "907758dc-73ef-43c1-875c-a10bdbb5ef0c",
   "metadata": {},
   "outputs": [],
   "source": []
  }
 ],
 "metadata": {
  "environment": {
   "kernel": "conda-root-py",
   "name": "workbench-notebooks.m118",
   "type": "gcloud",
   "uri": "us-docker.pkg.dev/deeplearning-platform-release/gcr.io/workbench-notebooks:m118"
  },
  "kernelspec": {
   "display_name": "Python 3 (ipykernel) (Local)",
   "language": "python",
   "name": "conda-root-py"
  },
  "language_info": {
   "codemirror_mode": {
    "name": "ipython",
    "version": 3
   },
   "file_extension": ".py",
   "mimetype": "text/x-python",
   "name": "python",
   "nbconvert_exporter": "python",
   "pygments_lexer": "ipython3",
   "version": "3.10.13"
  }
 },
 "nbformat": 4,
 "nbformat_minor": 5
}
