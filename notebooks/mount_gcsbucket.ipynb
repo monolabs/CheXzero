{
 "cells": [
  {
   "cell_type": "code",
   "execution_count": 2,
   "id": "5a0a77a2-8a39-4131-a508-a709955dfaa1",
   "metadata": {
    "tags": []
   },
   "outputs": [
    {
     "name": "stdout",
     "output_type": "stream",
     "text": [
      "/bin/bash: line 1: /etc/apt/sources.list.d/gcsfuse.list: Permission denied\n",
      "  % Total    % Received % Xferd  Average Speed   Time    Time     Time  Current\n",
      "                                 Dload  Upload   Total   Spent    Left  Speed\n",
      "100  2659  100  2659    0     0  88633      0 --:--:-- --:--:-- --:--:-- 91689\n",
      "Warning: apt-key is deprecated. Manage keyring files in trusted.gpg.d instead (see apt-key(8)).\n",
      "E: This command can only be used by root.\n",
      "\u001b[1;31mE: \u001b[0mCould not open lock file /var/lib/apt/lists/lock - open (13: Permission denied)\u001b[0m\n",
      "\u001b[1;31mE: \u001b[0mUnable to lock directory /var/lib/apt/lists/\u001b[0m\n",
      "\u001b[1;33mW: \u001b[0mProblem unlinking the file /var/cache/apt/pkgcache.bin - RemoveCaches (13: Permission denied)\u001b[0m\n",
      "\u001b[1;33mW: \u001b[0mProblem unlinking the file /var/cache/apt/srcpkgcache.bin - RemoveCaches (13: Permission denied)\u001b[0m\n",
      "\u001b[1;31mE: \u001b[0mCould not open lock file /var/lib/dpkg/lock-frontend - open (13: Permission denied)\u001b[0m\n",
      "\u001b[1;31mE: \u001b[0mUnable to acquire the dpkg frontend lock (/var/lib/dpkg/lock-frontend), are you root?\u001b[0m\n",
      "mkdir: cannot create directory ‘../data/mimic-cxr-data’: File exists\n",
      "{\"time\":\"29/02/2024 03:20:54.839771\",\"severity\":\"INFO\",\"msg\":\"Start gcsfuse/1.4.0 (Go version go1.21.5) for app \\\"\\\" using mount point: /home/jupyter/CheXzero/data/mimic-cxr-data\\n\"}\n",
      "daemonize.Run: readFromProcess: sub-process: mountWithArgs: mountWithStorageHandle: Mount: mount: running /usr/bin/fusermount: exit status 1\n",
      "mkdir: cannot create directory ‘../data/chexpert-test’: File exists\n",
      "{\"time\":\"29/02/2024 03:20:55.166153\",\"severity\":\"INFO\",\"msg\":\"Start gcsfuse/1.4.0 (Go version go1.21.5) for app \\\"\\\" using mount point: /home/jupyter/CheXzero/data/chexpert-test\\n\"}\n",
      "daemonize.Run: readFromProcess: sub-process: mountWithArgs: mountWithStorageHandle: Mount: mount: running /usr/bin/fusermount: exit status 1\n",
      "{\"time\":\"29/02/2024 03:20:55.489105\",\"severity\":\"INFO\",\"msg\":\"Start gcsfuse/1.4.0 (Go version go1.21.5) for app \\\"\\\" using mount point: /home/jupyter/CheXzero/data/chexzero\\n\"}\n"
     ]
    }
   ],
   "source": [
    "!echo \"deb https://packages.cloud.google.com/apt gcsfuse-bionic main\" > /etc/apt/sources.list.d/gcsfuse.list\n",
    "!curl https://packages.cloud.google.com/apt/doc/apt-key.gpg | apt-key add -\n",
    "!apt -qq update\n",
    "!apt -qq install gcsfuse\n",
    "\n",
    "# mount mimic dataset\n",
    "!mkdir ../data/mimic-cxr-data\n",
    "!gcsfuse --implicit-dirs mimic-cxr-data ../data/mimic-cxr-data\n",
    "\n",
    "# mount chexpert dataset\n",
    "!mkdir ../data/chexpert-test\n",
    "!gcsfuse --implicit-dirs chexpert-test ../data/chexpert-test\n",
    "\n",
    "# mount models\n",
    "!mkdir ../data/chexzero\n",
    "!gcsfuse --implicit-dirs chexzero ../data/chexzero"
   ]
  },
  {
   "cell_type": "code",
   "execution_count": null,
   "id": "e4724cac-7104-44aa-bf2f-60e552c6aa63",
   "metadata": {},
   "outputs": [],
   "source": []
  }
 ],
 "metadata": {
  "environment": {
   "kernel": "conda-root-py",
   "name": "workbench-notebooks.m115",
   "type": "gcloud",
   "uri": "gcr.io/deeplearning-platform-release/workbench-notebooks:m115"
  },
  "kernelspec": {
   "display_name": "Python 3 (ipykernel) (Local) (Local)",
   "language": "python",
   "name": "conda-root-py"
  },
  "language_info": {
   "codemirror_mode": {
    "name": "ipython",
    "version": 3
   },
   "file_extension": ".py",
   "mimetype": "text/x-python",
   "name": "python",
   "nbconvert_exporter": "python",
   "pygments_lexer": "ipython3",
   "version": "3.10.13"
  }
 },
 "nbformat": 4,
 "nbformat_minor": 5
}
